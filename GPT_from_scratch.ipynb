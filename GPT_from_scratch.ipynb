{
  "cells": [
    {
      "cell_type": "code",
      "execution_count": null,
      "metadata": {
        "id": "b4v8DmZMjgEd"
      },
      "outputs": [],
      "source": [
        "import torch\n",
        "import matplotlib.pyplot as plt\n",
        "import torch.nn.functional as F\n",
        "import random\n",
        "%matplotlib inline"
      ]
    },
    {
      "cell_type": "markdown",
      "metadata": {
        "id": "XmjHGQUZv6Q1"
      },
      "source": [
        "# **1-Reading and exploring the data**"
      ]
    },
    {
      "cell_type": "code",
      "execution_count": null,
      "metadata": {
        "colab": {
          "base_uri": "https://localhost:8080/"
        },
        "id": "KDvzdVbFrpZg",
        "outputId": "bbc3ac2e-3e36-4aea-d039-4491641edb5c"
      },
      "outputs": [
        {
          "output_type": "stream",
          "name": "stdout",
          "text": [
            "--2024-12-14 13:35:16--  https://raw.githubusercontent.com/karpathy/char-rnn/master/data/tinyshakespeare/input.txt\n",
            "Resolving raw.githubusercontent.com (raw.githubusercontent.com)... 185.199.108.133, 185.199.109.133, 185.199.110.133, ...\n",
            "Connecting to raw.githubusercontent.com (raw.githubusercontent.com)|185.199.108.133|:443... connected.\n",
            "HTTP request sent, awaiting response... 200 OK\n",
            "Length: 1115394 (1.1M) [text/plain]\n",
            "Saving to: ‘input.txt’\n",
            "\n",
            "input.txt           100%[===================>]   1.06M  --.-KB/s    in 0.06s   \n",
            "\n",
            "2024-12-14 13:35:16 (18.1 MB/s) - ‘input.txt’ saved [1115394/1115394]\n",
            "\n"
          ]
        }
      ],
      "source": [
        "!wget https://raw.githubusercontent.com/karpathy/char-rnn/master/data/tinyshakespeare/input.txt"
      ]
    },
    {
      "cell_type": "code",
      "execution_count": null,
      "metadata": {
        "id": "j4jprQR1r440"
      },
      "outputs": [],
      "source": [
        "# read it in to inpect it\n",
        "with open('/content/input.txt',mode ='r',encoding = 'utf-8') as f:\n",
        "  text = f.read()"
      ]
    },
    {
      "cell_type": "code",
      "execution_count": null,
      "metadata": {
        "colab": {
          "base_uri": "https://localhost:8080/"
        },
        "id": "A464DjjGsD4X",
        "outputId": "9c6a0712-a857-4e87-b385-9c96226034dc"
      },
      "outputs": [
        {
          "output_type": "stream",
          "name": "stdout",
          "text": [
            "length of dataset in characters:  1115394\n"
          ]
        }
      ],
      "source": [
        "print(\"length of dataset in characters: \",len(text))"
      ]
    },
    {
      "cell_type": "code",
      "execution_count": null,
      "metadata": {
        "colab": {
          "base_uri": "https://localhost:8080/"
        },
        "id": "HeGMVTtJsgSF",
        "outputId": "c991af41-8c4f-4f82-b229-9f18fe1dfae6"
      },
      "outputs": [
        {
          "output_type": "stream",
          "name": "stdout",
          "text": [
            "First Citizen:\n",
            "Before we proceed any further, hear me speak.\n",
            "\n",
            "All:\n",
            "Speak, speak.\n",
            "\n",
            "First Citizen:\n",
            "You are all resolved rather to die than to famish?\n",
            "\n",
            "All:\n",
            "Resolved. resolved.\n",
            "\n",
            "First Citizen:\n",
            "First, you know Caius Marcius is chief enemy to the people.\n",
            "\n",
            "All:\n",
            "We know't, we know't.\n",
            "\n",
            "First Citizen:\n",
            "Let us kill him, and we'll have corn at our own price.\n",
            "Is't a verdict?\n",
            "\n",
            "All:\n",
            "No more talking on't; let it be done: away, away!\n",
            "\n",
            "Second Citizen:\n",
            "One word, good citizens.\n",
            "\n",
            "First Citizen:\n",
            "We are accounted poor citizens, the patricians good.\n",
            "What authority surfeits on would relieve us: if they\n",
            "would yield us but the superfluity, while it were\n",
            "wholesome, we might guess they relieved us humanely;\n",
            "but they think we are too dear: the leanness that\n",
            "afflicts us, the object of our misery, is as an\n",
            "inventory to particularise their abundance; our\n",
            "sufferance is a gain to them Let us revenge this with\n",
            "our pikes, ere we become rakes: for the gods know I\n",
            "speak this in hunger for bread, not in thirst for revenge.\n",
            "\n",
            "\n"
          ]
        }
      ],
      "source": [
        "# let's look at the first 1000 characters\n",
        "print(text[:1000])"
      ]
    },
    {
      "cell_type": "code",
      "execution_count": null,
      "metadata": {
        "colab": {
          "base_uri": "https://localhost:8080/"
        },
        "id": "vA8VUV6XvUVB",
        "outputId": "05073993-ea66-49fe-a81a-fd7333a99d2c"
      },
      "outputs": [
        {
          "output_type": "stream",
          "name": "stdout",
          "text": [
            "\n",
            "   ! $ & ' , - . 3 : ; ? A B C D E F G H I J K L M N O P Q R S T U V W X Y Z a b c d e f g h i j k l m n o p q r s t u v w x y z\n",
            "65\n"
          ]
        }
      ],
      "source": [
        "# here are all the unique characters that occur in this text\n",
        "\n",
        "chars = sorted(list(set(text)))\n",
        "vocab_size = len(chars)\n",
        "print(' '.join(chars))\n",
        "print(vocab_size)"
      ]
    },
    {
      "cell_type": "markdown",
      "metadata": {
        "id": "CXkREgBFwAKd"
      },
      "source": [
        "# **2-Tokenization, train/val split**"
      ]
    },
    {
      "cell_type": "code",
      "execution_count": null,
      "metadata": {
        "colab": {
          "base_uri": "https://localhost:8080/"
        },
        "id": "Dt3PwUDVwTM4",
        "outputId": "00153bfe-360b-42c3-9045-eadbf54afe2f"
      },
      "outputs": [
        {
          "output_type": "stream",
          "name": "stdout",
          "text": [
            "[46, 47, 47, 1, 58, 46, 43, 56, 43]\n",
            "hii there\n"
          ]
        }
      ],
      "source": [
        "# create a mapping from characters to integers\n",
        "\n",
        "stoi = {ch:i for i,ch in enumerate(chars)}\n",
        "itos = {i:ch for i,ch in enumerate(chars)}\n",
        "encode = lambda s:[stoi[c] for c in s] # encoder : take a string a list of integers\n",
        "decode = lambda l: ''.join(itos[i] for i in l) #  decoder : take a list of integers,output a string\n",
        "\n",
        "\n",
        "print(encode(\"hii there\"))\n",
        "print(decode(encode(\"hii there\")))"
      ]
    },
    {
      "cell_type": "code",
      "execution_count": null,
      "metadata": {
        "colab": {
          "base_uri": "https://localhost:8080/"
        },
        "id": "JPvZA0cBzfH4",
        "outputId": "f5163b96-2000-489e-cbce-2440d3f7695f"
      },
      "outputs": [
        {
          "output_type": "stream",
          "name": "stdout",
          "text": [
            "torch.Size([1115394]) torch.int64\n",
            "tensor([18, 47, 56, 57, 58,  1, 15, 47, 58, 47, 64, 43, 52, 10,  0, 14, 43, 44,\n",
            "        53, 56, 43,  1, 61, 43,  1, 54, 56, 53, 41, 43, 43, 42,  1, 39, 52, 63,\n",
            "         1, 44, 59, 56, 58, 46, 43, 56,  6,  1, 46, 43, 39, 56,  1, 51, 43,  1,\n",
            "        57, 54, 43, 39, 49,  8,  0,  0, 13, 50, 50, 10,  0, 31, 54, 43, 39, 49,\n",
            "         6,  1, 57, 54, 43, 39, 49,  8,  0,  0, 18, 47, 56, 57, 58,  1, 15, 47,\n",
            "        58, 47, 64, 43, 52, 10,  0, 37, 53, 59,  1, 39, 56, 43,  1, 39, 50, 50,\n",
            "         1, 56, 43, 57, 53, 50, 60, 43, 42,  1, 56, 39, 58, 46, 43, 56,  1, 58,\n",
            "        53,  1, 42, 47, 43,  1, 58, 46, 39, 52,  1, 58, 53,  1, 44, 39, 51, 47,\n",
            "        57, 46, 12,  0,  0, 13, 50, 50, 10,  0, 30, 43, 57, 53, 50, 60, 43, 42,\n",
            "         8,  1, 56, 43, 57, 53, 50, 60, 43, 42,  8,  0,  0, 18, 47, 56, 57, 58,\n",
            "         1, 15, 47, 58, 47, 64, 43, 52, 10,  0, 18, 47, 56, 57, 58,  6,  1, 63,\n",
            "        53, 59,  1, 49, 52, 53, 61,  1, 15, 39, 47, 59, 57,  1, 25, 39, 56, 41,\n",
            "        47, 59, 57,  1, 47, 57,  1, 41, 46, 47, 43, 44,  1, 43, 52, 43, 51, 63,\n",
            "         1, 58, 53,  1, 58, 46, 43,  1, 54, 43, 53, 54, 50, 43,  8,  0,  0, 13,\n",
            "        50, 50, 10,  0, 35, 43,  1, 49, 52, 53, 61,  5, 58,  6,  1, 61, 43,  1,\n",
            "        49, 52, 53, 61,  5, 58,  8,  0,  0, 18, 47, 56, 57, 58,  1, 15, 47, 58,\n",
            "        47, 64, 43, 52, 10,  0, 24, 43, 58,  1, 59, 57,  1, 49, 47, 50, 50,  1,\n",
            "        46, 47, 51,  6,  1, 39, 52, 42,  1, 61, 43,  5, 50, 50,  1, 46, 39, 60,\n",
            "        43,  1, 41, 53, 56, 52,  1, 39, 58,  1, 53, 59, 56,  1, 53, 61, 52,  1,\n",
            "        54, 56, 47, 41, 43,  8,  0, 21, 57,  5, 58,  1, 39,  1, 60, 43, 56, 42,\n",
            "        47, 41, 58, 12,  0,  0, 13, 50, 50, 10,  0, 26, 53,  1, 51, 53, 56, 43,\n",
            "         1, 58, 39, 50, 49, 47, 52, 45,  1, 53, 52,  5, 58, 11,  1, 50, 43, 58,\n",
            "         1, 47, 58,  1, 40, 43,  1, 42, 53, 52, 43, 10,  1, 39, 61, 39, 63,  6,\n",
            "         1, 39, 61, 39, 63,  2,  0,  0, 31, 43, 41, 53, 52, 42,  1, 15, 47, 58,\n",
            "        47, 64, 43, 52, 10,  0, 27, 52, 43,  1, 61, 53, 56, 42,  6,  1, 45, 53,\n",
            "        53, 42,  1, 41, 47, 58, 47, 64, 43, 52, 57,  8,  0,  0, 18, 47, 56, 57,\n",
            "        58,  1, 15, 47, 58, 47, 64, 43, 52, 10,  0, 35, 43,  1, 39, 56, 43,  1,\n",
            "        39, 41, 41, 53, 59, 52, 58, 43, 42,  1, 54, 53, 53, 56,  1, 41, 47, 58,\n",
            "        47, 64, 43, 52, 57,  6,  1, 58, 46, 43,  1, 54, 39, 58, 56, 47, 41, 47,\n",
            "        39, 52, 57,  1, 45, 53, 53, 42,  8,  0, 35, 46, 39, 58,  1, 39, 59, 58,\n",
            "        46, 53, 56, 47, 58, 63,  1, 57, 59, 56, 44, 43, 47, 58, 57,  1, 53, 52,\n",
            "         1, 61, 53, 59, 50, 42,  1, 56, 43, 50, 47, 43, 60, 43,  1, 59, 57, 10,\n",
            "         1, 47, 44,  1, 58, 46, 43, 63,  0, 61, 53, 59, 50, 42,  1, 63, 47, 43,\n",
            "        50, 42,  1, 59, 57,  1, 40, 59, 58,  1, 58, 46, 43,  1, 57, 59, 54, 43,\n",
            "        56, 44, 50, 59, 47, 58, 63,  6,  1, 61, 46, 47, 50, 43,  1, 47, 58,  1,\n",
            "        61, 43, 56, 43,  0, 61, 46, 53, 50, 43, 57, 53, 51, 43,  6,  1, 61, 43,\n",
            "         1, 51, 47, 45, 46, 58,  1, 45, 59, 43, 57, 57,  1, 58, 46, 43, 63,  1,\n",
            "        56, 43, 50, 47, 43, 60, 43, 42,  1, 59, 57,  1, 46, 59, 51, 39, 52, 43,\n",
            "        50, 63, 11,  0, 40, 59, 58,  1, 58, 46, 43, 63,  1, 58, 46, 47, 52, 49,\n",
            "         1, 61, 43,  1, 39, 56, 43,  1, 58, 53, 53,  1, 42, 43, 39, 56, 10,  1,\n",
            "        58, 46, 43,  1, 50, 43, 39, 52, 52, 43, 57, 57,  1, 58, 46, 39, 58,  0,\n",
            "        39, 44, 44, 50, 47, 41, 58, 57,  1, 59, 57,  6,  1, 58, 46, 43,  1, 53,\n",
            "        40, 48, 43, 41, 58,  1, 53, 44,  1, 53, 59, 56,  1, 51, 47, 57, 43, 56,\n",
            "        63,  6,  1, 47, 57,  1, 39, 57,  1, 39, 52,  0, 47, 52, 60, 43, 52, 58,\n",
            "        53, 56, 63,  1, 58, 53,  1, 54, 39, 56, 58, 47, 41, 59, 50, 39, 56, 47,\n",
            "        57, 43,  1, 58, 46, 43, 47, 56,  1, 39, 40, 59, 52, 42, 39, 52, 41, 43,\n",
            "        11,  1, 53, 59, 56,  0, 57, 59, 44, 44, 43, 56, 39, 52, 41, 43,  1, 47,\n",
            "        57,  1, 39,  1, 45, 39, 47, 52,  1, 58, 53,  1, 58, 46, 43, 51,  1, 24,\n",
            "        43, 58,  1, 59, 57,  1, 56, 43, 60, 43, 52, 45, 43,  1, 58, 46, 47, 57,\n",
            "         1, 61, 47, 58, 46,  0, 53, 59, 56,  1, 54, 47, 49, 43, 57,  6,  1, 43,\n",
            "        56, 43,  1, 61, 43,  1, 40, 43, 41, 53, 51, 43,  1, 56, 39, 49, 43, 57,\n",
            "        10,  1, 44, 53, 56,  1, 58, 46, 43,  1, 45, 53, 42, 57,  1, 49, 52, 53,\n",
            "        61,  1, 21,  0, 57, 54, 43, 39, 49,  1, 58, 46, 47, 57,  1, 47, 52,  1,\n",
            "        46, 59, 52, 45, 43, 56,  1, 44, 53, 56,  1, 40, 56, 43, 39, 42,  6,  1,\n",
            "        52, 53, 58,  1, 47, 52,  1, 58, 46, 47, 56, 57, 58,  1, 44, 53, 56,  1,\n",
            "        56, 43, 60, 43, 52, 45, 43,  8,  0,  0])\n"
          ]
        }
      ],
      "source": [
        "# let's now encode the entire text dataset and store it into a torch.tensor\n",
        "\n",
        "data = torch.tensor(encode(text),dtype = torch.long)\n",
        "print(data.shape, data.dtype)\n",
        "print(data[:1000])"
      ]
    },
    {
      "cell_type": "code",
      "execution_count": null,
      "metadata": {
        "colab": {
          "base_uri": "https://localhost:8080/"
        },
        "id": "EdzIs2841Dn5",
        "outputId": "d9ebc1f4-5bc0-4564-bb94-60b1a16060ed"
      },
      "outputs": [
        {
          "output_type": "stream",
          "name": "stdout",
          "text": [
            "train_set:torch.Size([1003854])\n",
            "val_set:torch.Size([111540])\n"
          ]
        }
      ],
      "source": [
        "# let's now split up the data into train and validation sets\n",
        "n1 = int(0.9*len(data[:]))\n",
        "train_set = data[:n1] # firts 90% wiil be train, rest val\n",
        "val_set = data[n1:]\n",
        "print(f'train_set:{train_set.shape}')\n",
        "print(f'val_set:{val_set.shape}')"
      ]
    },
    {
      "cell_type": "markdown",
      "metadata": {
        "id": "Ujw6ldP124bv"
      },
      "source": [
        "#**3-Data loader: batches of chunks of data**"
      ]
    },
    {
      "cell_type": "code",
      "execution_count": null,
      "metadata": {
        "colab": {
          "base_uri": "https://localhost:8080/"
        },
        "id": "JyZtScPn3Pbs",
        "outputId": "199fa564-39ff-46a3-fcd4-051ddf3047fe"
      },
      "outputs": [
        {
          "output_type": "execute_result",
          "data": {
            "text/plain": [
              "tensor([18, 47, 56, 57, 58,  1, 15, 47, 58])"
            ]
          },
          "metadata": {},
          "execution_count": 10
        }
      ],
      "source": [
        "block_size  = 8\n",
        "train_set[:block_size+1]"
      ]
    },
    {
      "cell_type": "code",
      "execution_count": null,
      "metadata": {
        "colab": {
          "base_uri": "https://localhost:8080/"
        },
        "id": "kNYGdadY9S0y",
        "outputId": "c1f0a553-73e2-4e06-d69f-c2ca08913dbd"
      },
      "outputs": [
        {
          "output_type": "stream",
          "name": "stdout",
          "text": [
            "tensor([18, 47, 56, 57, 58,  1, 15, 47])\n",
            "tensor([47, 56, 57, 58,  1, 15, 47, 58])\n"
          ]
        },
        {
          "output_type": "execute_result",
          "data": {
            "text/plain": [
              "(None, None)"
            ]
          },
          "metadata": {},
          "execution_count": 11
        }
      ],
      "source": [
        "print(train_set[:block_size]),print(train_set[1:block_size + 1])"
      ]
    },
    {
      "cell_type": "code",
      "execution_count": null,
      "metadata": {
        "colab": {
          "base_uri": "https://localhost:8080/"
        },
        "id": "I8pawfxQ4FkH",
        "outputId": "4736fc3e-f950-4417-b13e-7a8669c4ff89"
      },
      "outputs": [
        {
          "output_type": "stream",
          "name": "stdout",
          "text": [
            "when the input is tensor([18])  - the target: 47\n",
            "when the input is tensor([18, 47])  - the target: 56\n",
            "when the input is tensor([18, 47, 56])  - the target: 57\n",
            "when the input is tensor([18, 47, 56, 57])  - the target: 58\n",
            "when the input is tensor([18, 47, 56, 57, 58])  - the target: 1\n",
            "when the input is tensor([18, 47, 56, 57, 58,  1])  - the target: 15\n",
            "when the input is tensor([18, 47, 56, 57, 58,  1, 15])  - the target: 47\n",
            "when the input is tensor([18, 47, 56, 57, 58,  1, 15, 47])  - the target: 58\n"
          ]
        }
      ],
      "source": [
        "x = train_set[:block_size]\n",
        "y = train_set[1:block_size+1]\n",
        "\n",
        "for t in range(block_size):\n",
        "  context = x[:t+1]\n",
        "  target  =  y[t]\n",
        "  print(f\"when the input is {context}  - the target: {target}\")"
      ]
    },
    {
      "cell_type": "code",
      "execution_count": null,
      "metadata": {
        "colab": {
          "base_uri": "https://localhost:8080/"
        },
        "id": "jRJoabIfK0Ds",
        "outputId": "c3ff8775-b95d-4ccb-811a-0c954f3c75df"
      },
      "outputs": [
        {
          "output_type": "stream",
          "name": "stdout",
          "text": [
            "inputs\n",
            "torch.Size([4, 8])\n",
            "tensor([[24, 43, 58,  5, 57,  1, 46, 43],\n",
            "        [44, 53, 56,  1, 58, 46, 39, 58],\n",
            "        [52, 58,  1, 58, 46, 39, 58,  1],\n",
            "        [25, 17, 27, 10,  0, 21,  1, 54]])\n",
            "targets:\n",
            "torch.Size([4, 8])\n",
            "tensor([[43, 58,  5, 57,  1, 46, 43, 39],\n",
            "        [53, 56,  1, 58, 46, 39, 58,  1],\n",
            "        [58,  1, 58, 46, 39, 58,  1, 46],\n",
            "        [17, 27, 10,  0, 21,  1, 54, 39]])\n",
            " ================ \n",
            "when input is [24] the target is 43\n",
            "when input is [24, 43] the target is 58\n",
            "when input is [24, 43, 58] the target is 5\n",
            "when input is [24, 43, 58, 5] the target is 57\n",
            "when input is [24, 43, 58, 5, 57] the target is 1\n",
            "when input is [24, 43, 58, 5, 57, 1] the target is 46\n",
            "when input is [24, 43, 58, 5, 57, 1, 46] the target is 43\n",
            "when input is [24, 43, 58, 5, 57, 1, 46, 43] the target is 39\n",
            "when input is [44] the target is 53\n",
            "when input is [44, 53] the target is 56\n",
            "when input is [44, 53, 56] the target is 1\n",
            "when input is [44, 53, 56, 1] the target is 58\n",
            "when input is [44, 53, 56, 1, 58] the target is 46\n",
            "when input is [44, 53, 56, 1, 58, 46] the target is 39\n",
            "when input is [44, 53, 56, 1, 58, 46, 39] the target is 58\n",
            "when input is [44, 53, 56, 1, 58, 46, 39, 58] the target is 1\n",
            "when input is [52] the target is 58\n",
            "when input is [52, 58] the target is 1\n",
            "when input is [52, 58, 1] the target is 58\n",
            "when input is [52, 58, 1, 58] the target is 46\n",
            "when input is [52, 58, 1, 58, 46] the target is 39\n",
            "when input is [52, 58, 1, 58, 46, 39] the target is 58\n",
            "when input is [52, 58, 1, 58, 46, 39, 58] the target is 1\n",
            "when input is [52, 58, 1, 58, 46, 39, 58, 1] the target is 46\n",
            "when input is [25] the target is 17\n",
            "when input is [25, 17] the target is 27\n",
            "when input is [25, 17, 27] the target is 10\n",
            "when input is [25, 17, 27, 10] the target is 0\n",
            "when input is [25, 17, 27, 10, 0] the target is 21\n",
            "when input is [25, 17, 27, 10, 0, 21] the target is 1\n",
            "when input is [25, 17, 27, 10, 0, 21, 1] the target is 54\n",
            "when input is [25, 17, 27, 10, 0, 21, 1, 54] the target is 39\n"
          ]
        }
      ],
      "source": [
        "torch.manual_seed(1337)\n",
        "block_size = 8 # how many  independent sequences will we process in parallel ?\n",
        "batch_size = 4 # what is the maximun context length for prediction ?\n",
        "\n",
        "def get_batch(split):\n",
        "  data = train_set if split == \"train\" else  val_set\n",
        "  ix = torch.randint(len(data) - block_size,(batch_size,))\n",
        "  x = torch.stack([data[i:i+block_size] for  i in ix])\n",
        "  y = torch.stack([data[i+1:i+block_size+1] for i in ix])\n",
        "  return x,y\n",
        "\n",
        "xb, yb  = get_batch(\"train\")\n",
        "print('inputs')\n",
        "print(xb.shape)\n",
        "print(xb)\n",
        "print('targets:')\n",
        "print(yb.shape)\n",
        "print(yb)\n",
        "\n",
        "print(\" ================ \")\n",
        "\n",
        "for b in range(batch_size): # batch dimension\n",
        "  for t in range(block_size): # time dimension\n",
        "    context = xb[b,:t+1]\n",
        "    target  =  yb[b,t]\n",
        "    print(f\"when input is {context.tolist()} the target is {target}\")"
      ]
    },
    {
      "cell_type": "code",
      "execution_count": null,
      "metadata": {
        "colab": {
          "base_uri": "https://localhost:8080/"
        },
        "id": "Udc-yQZ1YDXJ",
        "outputId": "0fae06ba-ec58-4a6a-d46f-496f538dbfc4"
      },
      "outputs": [
        {
          "output_type": "stream",
          "name": "stdout",
          "text": [
            "tensor([[24, 43, 58,  5, 57,  1, 46, 43],\n",
            "        [44, 53, 56,  1, 58, 46, 39, 58],\n",
            "        [52, 58,  1, 58, 46, 39, 58,  1],\n",
            "        [25, 17, 27, 10,  0, 21,  1, 54]])\n"
          ]
        }
      ],
      "source": [
        "print(xb) # our input to the transformer"
      ]
    },
    {
      "cell_type": "markdown",
      "metadata": {
        "id": "pW2cu3hoYqjX"
      },
      "source": [
        "# **4-Simplest baseline: bigram language model, loss, generation**"
      ]
    },
    {
      "cell_type": "code",
      "execution_count": null,
      "metadata": {
        "id": "BIM6eZr3Y6c4"
      },
      "outputs": [],
      "source": [
        "import torch.nn as nn"
      ]
    },
    {
      "cell_type": "code",
      "execution_count": null,
      "metadata": {
        "colab": {
          "base_uri": "https://localhost:8080/"
        },
        "id": "cYwClnVkYIrZ",
        "outputId": "3e775a68-28e5-4f81-d185-aa57f091027b"
      },
      "outputs": [
        {
          "output_type": "stream",
          "name": "stdout",
          "text": [
            "torch.Size([32, 65])\n",
            "tensor(4.8786, grad_fn=<NllLossBackward0>)\n"
          ]
        }
      ],
      "source": [
        "torch.manual_seed(1337)\n",
        "class BigramLanguageModel(nn.Module):\n",
        "  def __init__(self, vocab_size):\n",
        "    super().__init__()\n",
        "    # each token directly reads off the logits for the token  from a lookup table\n",
        "    self.token_embedding_table = nn.Embedding(vocab_size,vocab_size)\n",
        "\n",
        "  def forward(self, idx, targets = None):\n",
        "    # idx and targets are both (B,T) tensor of integers\n",
        "    logits = self.token_embedding_table(idx) #(B,T,C)\n",
        "\n",
        "    if targets == None:\n",
        "       loss = None\n",
        "    else:\n",
        "      B, T , C  = logits.shape\n",
        "      logits = logits.view(B*T, C)\n",
        "      targets = targets.view(B*T)\n",
        "      loss = F.cross_entropy(logits,targets)\n",
        "    return logits, loss\n",
        "\n",
        "  def generate(self,idx,max_new_token):\n",
        "    # idx is (B,T) array of indices  in the current context\n",
        "    for _ in range(max_new_token):\n",
        "      # get the predictions\n",
        "      logits , loss = self(idx)\n",
        "      # focus on the last time step\n",
        "      logits = logits[:,-1,:] # becomes (B,C)\n",
        "      # apply softmax to get probabilities\n",
        "      probs = F.softmax(logits, dim = -1) # (B,C)\n",
        "      # sample from the distribuition\n",
        "      idx_next = torch.multinomial(probs, num_samples = 1) # (B,1)\n",
        "      # append sampled index to the running sequence\n",
        "      idx = torch.cat((idx, idx_next),dim = 1) # (B,T+1)\n",
        "\n",
        "    return idx\n",
        "\n",
        "m  = BigramLanguageModel(vocab_size)\n",
        "logits, loss = m(xb,yb)\n",
        "print(logits.shape)\n",
        "print(loss)"
      ]
    },
    {
      "cell_type": "code",
      "execution_count": null,
      "metadata": {
        "colab": {
          "base_uri": "https://localhost:8080/"
        },
        "id": "Jo_ZH_7ZsuE6",
        "outputId": "0e3ce55e-3375-4d77-8210-2b122c7b013a"
      },
      "outputs": [
        {
          "output_type": "stream",
          "name": "stdout",
          "text": [
            "\n",
            "Sr?qP-QWktXoL&jLDJgOLVz'RIoDqHdhsV&vLLxatjscMpwLERSPyao.qfzs$Ys$zF-w,;eEkzxjgCKFChs!iWW.ObzDnxA Ms$3\n"
          ]
        }
      ],
      "source": [
        "print(decode(m.generate(idx = torch.zeros((1,1),dtype = torch.long), max_new_token = 100)[0].tolist()))"
      ]
    },
    {
      "cell_type": "markdown",
      "metadata": {
        "id": "hvBYDYU9XKYQ"
      },
      "source": [
        "# **5- Training  the bigram Model**"
      ]
    },
    {
      "cell_type": "code",
      "execution_count": null,
      "metadata": {
        "id": "lxvvsfN_XvAK"
      },
      "outputs": [],
      "source": [
        " # create a Pytorch optimizer\n",
        "\n",
        "optimizer = torch.optim.AdamW(m.parameters(), lr = 1e-3)"
      ]
    },
    {
      "cell_type": "code",
      "execution_count": null,
      "metadata": {
        "colab": {
          "base_uri": "https://localhost:8080/"
        },
        "id": "JSFyXLH6YcmO",
        "outputId": "7f33c11d-3a25-465a-efc9-e68dfb649af2"
      },
      "outputs": [
        {
          "output_type": "stream",
          "name": "stdout",
          "text": [
            "0.465354859828949\n"
          ]
        }
      ],
      "source": [
        "batch_size = 32\n",
        "for steps in range(10000):\n",
        "  # sample a batch of data\n",
        "\n",
        "  # evaluate  the loss\n",
        "  logits, loss = m(xb,yb)\n",
        "  optimizer.zero_grad(set_to_none = True)\n",
        "  loss.backward()\n",
        "  optimizer.step()\n",
        "print(loss.item())"
      ]
    },
    {
      "cell_type": "code",
      "execution_count": null,
      "metadata": {
        "colab": {
          "base_uri": "https://localhost:8080/"
        },
        "id": "vjFXfvWIcih4",
        "outputId": "a47451d4-40b6-404c-b206-5a08070a9dfc"
      },
      "outputs": [
        {
          "output_type": "stream",
          "name": "stdout",
          "text": [
            "\n",
            "I t that hat pat t hathethat patxbjPiD&Q!athathat t thathat hat t pathathat hat pat t heat's pathat hat's pat's that's t that t t's thathat that's hathat pat het thathathat that hathet pat theat t t t t that's t t theathat tNw$\n",
            "I hat thet hathat's t heat hat t t's pat t's pat pat theathethathathat's hethathetheathathat thathathathat's theat's MEO:\n",
            "I pat that's thathetheat hat hathat's thathathat's\n",
            "\n"
          ]
        }
      ],
      "source": [
        "print(f'{decode(m.generate(idx=torch.zeros((1,1), dtype=torch.long), max_new_token=400)[0].tolist())}\\n')"
      ]
    },
    {
      "cell_type": "markdown",
      "metadata": {
        "id": "HowruaZEjAqf"
      },
      "source": [
        "#**6-Building the \"self-attention\"**"
      ]
    },
    {
      "cell_type": "code",
      "execution_count": null,
      "metadata": {
        "id": "2iekstjnoOgg"
      },
      "outputs": [],
      "source": [
        "# consider  the following toy example\n",
        "\n",
        "torch.manual_seed(1337)\n",
        "B, T, C = 4, 8, 2 # batch, line, channels\n",
        "x = torch.randn(B, T, C)"
      ]
    },
    {
      "cell_type": "code",
      "execution_count": null,
      "metadata": {
        "colab": {
          "base_uri": "https://localhost:8080/"
        },
        "id": "YT5RfZZOxeC-",
        "outputId": "b2213f86-705f-47ee-f7c5-a46b290e37c4"
      },
      "outputs": [
        {
          "output_type": "stream",
          "name": "stdout",
          "text": [
            "tensor(0.0554)\n"
          ]
        }
      ],
      "source": [
        "print(x[0,0].mean(axis=-1))"
      ]
    },
    {
      "cell_type": "code",
      "execution_count": null,
      "metadata": {
        "id": "sh8wVV34om3b"
      },
      "outputs": [],
      "source": [
        "# we want x[b,t] = mean_{i< = t} x[b,i]\n",
        "xbow = torch.zeros((B, T, C))\n",
        "for b in range(B):\n",
        "  for t in range(T):\n",
        "    xprev = x[b, :t+1]\n",
        "    xbow[b, t] = torch.mean(xprev, 0)"
      ]
    },
    {
      "cell_type": "markdown",
      "metadata": {
        "id": "ZOq3j4lpD54E"
      },
      "source": [
        "##**6.1-Version 2: using matrix multiply**"
      ]
    },
    {
      "cell_type": "code",
      "execution_count": null,
      "metadata": {
        "id": "XZwukm5wBq0g"
      },
      "outputs": [],
      "source": [
        "wei   = torch.tril(torch.ones(T, T))\n",
        "wei   = wei / wei.sum(1, keepdim = True)\n",
        "xbow2 = wei @ x # (B, T, T) @ (B, T, C) ------> (B, T, C)"
      ]
    },
    {
      "cell_type": "markdown",
      "metadata": {
        "id": "Bb2sJEYGLYMh"
      },
      "source": [
        "## **6.2-Adding softmax**"
      ]
    },
    {
      "cell_type": "code",
      "execution_count": null,
      "metadata": {
        "colab": {
          "base_uri": "https://localhost:8080/"
        },
        "id": "Uhh5FrF_MWCG",
        "outputId": "110e2a9c-4399-445f-e145-0910010d52cd"
      },
      "outputs": [
        {
          "output_type": "execute_result",
          "data": {
            "text/plain": [
              "tensor([[1.0000, 0.0000, 0.0000, 0.0000, 0.0000, 0.0000, 0.0000, 0.0000],\n",
              "        [0.5000, 0.5000, 0.0000, 0.0000, 0.0000, 0.0000, 0.0000, 0.0000],\n",
              "        [0.3333, 0.3333, 0.3333, 0.0000, 0.0000, 0.0000, 0.0000, 0.0000],\n",
              "        [0.2500, 0.2500, 0.2500, 0.2500, 0.0000, 0.0000, 0.0000, 0.0000],\n",
              "        [0.2000, 0.2000, 0.2000, 0.2000, 0.2000, 0.0000, 0.0000, 0.0000],\n",
              "        [0.1667, 0.1667, 0.1667, 0.1667, 0.1667, 0.1667, 0.0000, 0.0000],\n",
              "        [0.1429, 0.1429, 0.1429, 0.1429, 0.1429, 0.1429, 0.1429, 0.0000],\n",
              "        [0.1250, 0.1250, 0.1250, 0.1250, 0.1250, 0.1250, 0.1250, 0.1250]])"
            ]
          },
          "metadata": {},
          "execution_count": 25
        }
      ],
      "source": [
        "# version 3: use Softmax\n",
        "tril = torch.tril(torch.ones((T,T)))\n",
        "wei = torch.zeros((T,T))\n",
        "wei = wei.masked_fill(tril == 0, float('-inf'))\n",
        "wei = F.softmax(wei, dim = -1)\n",
        "wei"
      ]
    },
    {
      "cell_type": "code",
      "execution_count": null,
      "metadata": {
        "id": "-hTe0fDoCWQF"
      },
      "outputs": [],
      "source": [
        "# version 4: self-attention\n",
        "\n",
        "torch.manual_seed(1337)\n",
        "B, T, C  =  4,8,32 # batch , time , channels\n",
        "x  =  torch.randn(B, T, C)\n",
        "\n",
        "# let's see a single head perform self-attention\n",
        "\n",
        "head_size = 16\n",
        "key   =   nn.Linear(C ,  head_size, bias   = False)\n",
        "query =   nn.Linear(C ,  head_size, bias   = False)\n",
        "value =   nn.Linear(C ,  head_size, bias   = False)\n",
        "\n",
        "k   =  key(x)   #  (B, T, 16)\n",
        "q   =  query(x) #  (B, T, 16)\n",
        "v   =  value(x) #  (B ,T, 16)\n",
        "\n",
        "wei =  q @ k.transpose(-2,-1) # (B, T, 16) @ (B, 16, T) --------> (B,T,T)\n",
        "\n",
        "tril  =  torch.tril(torch.ones(T, T))\n",
        "#wei  =  torch.zeros((T, T))\n",
        "wei   =  wei.masked_fill(tril == 0, float('-inf'))\n",
        "wei   =  F.softmax(wei, dim = -1)\n",
        "#out  =  wei @ x\n",
        "out   =  wei @ v\n"
      ]
    },
    {
      "cell_type": "code",
      "execution_count": null,
      "metadata": {
        "colab": {
          "base_uri": "https://localhost:8080/"
        },
        "id": "wZBy8z_XO1cB",
        "outputId": "38879c5c-7678-4068-b369-898caf2ff6a8"
      },
      "outputs": [
        {
          "output_type": "execute_result",
          "data": {
            "text/plain": [
              "tensor([[1.0000, 0.0000, 0.0000, 0.0000, 0.0000, 0.0000, 0.0000, 0.0000],\n",
              "        [0.1574, 0.8426, 0.0000, 0.0000, 0.0000, 0.0000, 0.0000, 0.0000],\n",
              "        [0.2088, 0.1646, 0.6266, 0.0000, 0.0000, 0.0000, 0.0000, 0.0000],\n",
              "        [0.5792, 0.1187, 0.1889, 0.1131, 0.0000, 0.0000, 0.0000, 0.0000],\n",
              "        [0.0294, 0.1052, 0.0469, 0.0276, 0.7909, 0.0000, 0.0000, 0.0000],\n",
              "        [0.0176, 0.2689, 0.0215, 0.0089, 0.6812, 0.0019, 0.0000, 0.0000],\n",
              "        [0.1691, 0.4066, 0.0438, 0.0416, 0.1048, 0.2012, 0.0329, 0.0000],\n",
              "        [0.0210, 0.0843, 0.0555, 0.2297, 0.0573, 0.0709, 0.2423, 0.2391]],\n",
              "       grad_fn=<SelectBackward0>)"
            ]
          },
          "metadata": {},
          "execution_count": 27
        }
      ],
      "source": [
        "wei[0]"
      ]
    },
    {
      "cell_type": "markdown",
      "metadata": {
        "id": "pm39i-yvukvT"
      },
      "source": [
        "#**7- Building the Transformer**"
      ]
    },
    {
      "cell_type": "markdown",
      "metadata": {
        "id": "8gz5d0maPTK4"
      },
      "source": [
        "![image.png](data:image/png;base64,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)"
      ]
    },
    {
      "cell_type": "code",
      "execution_count": null,
      "metadata": {
        "id": "XMeVBqDcuY_u"
      },
      "outputs": [],
      "source": [
        "class BactNorm1d:\n",
        "\n",
        "  def __init__(self,dim,eps = 1e-5 , momentun = 0.1):\n",
        "    self.eps = eps\n",
        "    self.dim = dim\n",
        "    self.gamma = torch.ones(dim)\n",
        "    self.beta = torch.zeros(dim)\n",
        "\n",
        "  def __call__(self,x):\n",
        "    # calculate the forward pass\n",
        "    xmean = x.mean(axis   =  1, keepdims = True) # batch mean\n",
        "    xvar  =  x.var( axis  =  1, keepdims = True,unbiased=False) # batch variance\n",
        "    xhat = (x - xmean) / torch.sqrt(xvar + self.eps)\n",
        "    self.out = self.gamma * xhat + self.beta\n",
        "\n",
        "    return out\n",
        "\n",
        "  def parameters(self):\n",
        "    return [self.gamma, self.beta]"
      ]
    },
    {
      "cell_type": "code",
      "execution_count": null,
      "metadata": {
        "colab": {
          "base_uri": "https://localhost:8080/"
        },
        "id": "KHURlIEZ-y9U",
        "outputId": "c99accab-dfbd-4a72-abd5-33a7a93c32d7"
      },
      "outputs": [
        {
          "output_type": "execute_result",
          "data": {
            "text/plain": [
              "torch.Size([4, 8, 16])"
            ]
          },
          "metadata": {},
          "execution_count": 29
        }
      ],
      "source": [
        "torch.manual_seed(1337)\n",
        "module =  BactNorm1d(100)\n",
        "x = torch.randn(32,100)\n",
        "x = module(x)\n",
        "x.shape"
      ]
    },
    {
      "cell_type": "code",
      "execution_count": null,
      "metadata": {
        "id": "fk6ZZmNlJ1jg"
      },
      "outputs": [],
      "source": [
        "import torch\n",
        "import torch.nn as nn\n",
        "from torch.nn import functional as F\n",
        "\n",
        "# hyperparameters\n",
        "\n",
        "batch_size = 64 # how many independent sequences will we process in parallel ?\n",
        "block_size = 64 # what  is the maximun context length for prediction\n",
        "max_iters = 5000\n",
        "eval_interval = 300\n",
        "learning_rate = 3e-4\n",
        "device = 'cuda' if torch.cuda.is_available() else 'cpu'\n",
        "eval_iters = 200\n",
        "n_embd = 120\n",
        "n_head = 8\n",
        "n_layer = 3\n",
        "dropout = 0.2\n",
        "\n",
        "# ----------------------"
      ]
    },
    {
      "cell_type": "code",
      "execution_count": null,
      "metadata": {
        "id": "sZFA1m7PNgdb"
      },
      "outputs": [],
      "source": [
        "class Head(nn.Module):\n",
        "  \"\"\"\" one head of self attention \"\"\"\n",
        "\n",
        "  def __init__(self,head_size):\n",
        "    super().__init__()\n",
        "    self.key    = nn.Linear(n_embd, head_size, bias = False)\n",
        "    self.query  = nn.Linear(n_embd, head_size, bias =  False)\n",
        "    self.value = nn.Linear(n_embd, head_size, bias = False)\n",
        "    self.register_buffer('tril', torch.tril(torch.ones(block_size, block_size)))\n",
        "\n",
        "    self.dropout = nn.Dropout(dropout)\n",
        "\n",
        "  def forward(self, x):\n",
        "    B, T, C = x.shape\n",
        "    k = self.key(x)    # [B, T, C]\n",
        "    q = self.query(x)  # [B, T, C]\n",
        "\n",
        "    # compute attention scores (\"affinites\")\n",
        "    wei = q @ k.transpose(-2,-1)*C**-0.5 # (B, T, C) @ (B, C, T) -----> (B,T,T)\n",
        "    wei = wei.masked_fill(self.tril[:T,:T] == 0, float('-inf')) #  (B, T, T)\n",
        "    wei = F.softmax(wei, dim = -1) # (B, T, T)\n",
        "    wei = self.dropout(wei)\n",
        "    # perform the  weigthed aggregation of the  values\n",
        "    v   = self.value(x)  # (B, T, C)\n",
        "    out = wei @ v # (B, T, T) @ (B, T, C) ---> (B, T, C)\n",
        "    return out\n",
        "\n",
        "class MultiHeadAttention(nn.Module):\n",
        "  \"\"\"\" multiple heads of self - attention \"\"\"\n",
        "\n",
        "  def __init__(self,num_heads,head_size):\n",
        "    super().__init__()\n",
        "    self.heads   = nn.ModuleList([Head(head_size) for _ in range(num_heads)])\n",
        "    self.proj    = nn.Linear(num_heads * head_size, n_embd)\n",
        "    self.dropout = nn.Dropout(dropout)\n",
        "\n",
        "  def forward(self,x):\n",
        "    out = torch.cat([h(x) for  h in self.heads],dim=-1)\n",
        "    out = self.dropout(self.proj(out))\n",
        "    return out\n",
        "\n",
        "class FeedForward(nn.Module):\n",
        "  \"\"\" a simple linear layer followed by a non - linearity \"\"\"\n",
        "\n",
        "  def __init__(self, n_embd):\n",
        "    super().__init__()\n",
        "    self.net  = nn.Sequential(\n",
        "          nn.Linear(n_embd,4 * n_embd),\n",
        "          nn.ReLU(),\n",
        "          nn.Linear(4 * n_embd, n_embd),\n",
        "          nn.Dropout(dropout)\n",
        "    )\n",
        "\n",
        "  def forward(self, x):\n",
        "    return self.net(x)\n",
        "\n",
        "class Block(nn.Module):\n",
        "  \"\"\"\" Transformer block: Comunication followeb by computation\"\"\"\n",
        "\n",
        "  def __init__(self, n_embd, n_head):\n",
        "    # n_embd: embeddings dimension , n_head: the number of heads we'd like\n",
        "    super().__init__()\n",
        "    head_size =  n_embd // n_head\n",
        "    self.sa   = MultiHeadAttention(n_head, head_size)\n",
        "    self.ffwd = FeedForward(n_embd)\n",
        "    self.ln1  = nn.LayerNorm(n_embd)\n",
        "    self.ln2  = nn.LayerNorm(n_embd)\n",
        "\n",
        "  def forward(self, x):\n",
        "    x = x + self.sa(self.ln1(x))\n",
        "    x = x + self.ffwd(self.ln2(x))\n",
        "    return x\n",
        "\n",
        "class BigramLanguageModel(nn.Module):\n",
        "  def __init__(self):\n",
        "    super().__init__()\n",
        "    # each token directly reads off the logits for the token  from a lookup table\n",
        "    self.token_embedding_table    = nn.Embedding(vocab_size,n_embd)\n",
        "    self.position_embbeding_table = nn.Embedding(block_size, n_embd)\n",
        "    self.blocks    =     nn.Sequential(*[Block(n_embd,n_head = n_head) for _ in range(n_layer)])\n",
        "    self.ln_f      =     nn.LayerNorm(n_embd)\n",
        "    self.lm_head   =     nn.Linear(n_embd, vocab_size)\n",
        "\n",
        "  def forward(self, idx, targets = None):\n",
        "\n",
        "    B, T = idx.shape\n",
        "    # idx and targets are both (B, T) tensor of integers\n",
        "    tok_emb =  self.token_embedding_table(idx) # (B,T,C)\n",
        "    pos_emb =  self.position_embbeding_table(torch.arange(T, device = device))\n",
        "    x = tok_emb + pos_emb # (B, T, C)\n",
        "    x = self.blocks(x)    # (B,T,C)\n",
        "    x = self.ln_f(x)\n",
        "    logits = self.lm_head(x) # (B, T, vocab_size)\n",
        "\n",
        "    if targets == None:\n",
        "       loss = None\n",
        "    else:\n",
        "      B, T , C  = logits.shape\n",
        "      logits = logits.view(B*T, C)\n",
        "      targets = targets.view(B*T)\n",
        "      loss = F.cross_entropy(logits,targets)\n",
        "    return logits, loss\n",
        "\n",
        "  def generate(self,idx,max_new_token):\n",
        "      # idx is (B,T) array of indices  in the current context\n",
        "    for _ in range(max_new_token):\n",
        "      # get the predictions\n",
        "      idx_cond = idx[:, -block_size:]\n",
        "      logits , loss = self(idx_cond)\n",
        "      # focus on the last time step\n",
        "      logits = logits[:,-1,:] # becomes (B,C)\n",
        "      # apply softmax to get probabilities\n",
        "      probs = F.softmax(logits, dim = -1) # (B,C)\n",
        "      # sample from the distribuition\n",
        "      idx_next = torch.multinomial(probs, num_samples = 1) # (B,1)\n",
        "      # append sampled index to the running sequence\n",
        "      idx = torch.cat((idx, idx_next),dim = 1) # (B,T+1)\n",
        "\n",
        "    return idx\n",
        "\n",
        "model  = BigramLanguageModel()\n",
        "m = model.to(device)"
      ]
    },
    {
      "cell_type": "code",
      "execution_count": null,
      "metadata": {
        "id": "2F8MoGijOIQC"
      },
      "outputs": [],
      "source": [
        "@torch.no_grad()\n",
        "def estimate_loss():\n",
        "    out = {}\n",
        "    model.eval()\n",
        "    for split in [\"train\", \"eval\"]:\n",
        "        losses = torch.zeros(eval_iters)\n",
        "        for k in range(eval_iters):\n",
        "           X, Y = get_batch(split)\n",
        "           logits, loss = model(X,Y)\n",
        "           losses[k] = loss.item()\n",
        "        out[split] = losses.mean()\n",
        "    model.train()\n",
        "    return out"
      ]
    },
    {
      "cell_type": "code",
      "execution_count": null,
      "metadata": {
        "id": "e_7OGlaETFgD"
      },
      "outputs": [],
      "source": [
        "lossi = []"
      ]
    },
    {
      "cell_type": "code",
      "execution_count": null,
      "metadata": {
        "id": "j5URpNS1N6tp"
      },
      "outputs": [],
      "source": [
        " # create a Pytorch optimizer\n",
        "optimizer = torch.optim.AdamW(m.parameters(), learning_rate)\n",
        "\n",
        "for iter in range(max_iters):\n",
        "  # sample a batch of data\n",
        "    if iter %  eval_interval == 0:\n",
        "      losses = estimate_loss()\n",
        "      print(f\"steps {iter}: train loss {losses['train']:.4f}, val loss {losses['eval']:.4f}\")\n",
        "     # sample a batch of data\n",
        "    xb, yb = get_batch(\"train\")\n",
        "    logits, loss = model(xb, yb)\n",
        "    optimizer.zero_grad(set_to_none = True)\n",
        "    loss.backward()\n",
        "    optimizer.step()"
      ]
    },
    {
      "cell_type": "code",
      "execution_count": null,
      "metadata": {
        "id": "pYZ-ZZqgOTOe"
      },
      "outputs": [],
      "source": [
        "# generate from the model\n",
        "context = torch.zeros((1,1),dtype = torch.long, device = device)\n",
        "print(decode(m.generate(context, max_new_token = 10000)[0].tolist()))"
      ]
    },
    {
      "cell_type": "code",
      "execution_count": null,
      "metadata": {
        "id": "4GHTObJKOhNX"
      },
      "outputs": [],
      "source": [
        "with open('text_genereted.txt', mode = 'w',encoding = 'utf-8') as f:\n",
        "  f.write(f'{decode(m.generate(context, max_new_token = 10000)[0].tolist())}')"
      ]
    },
    {
      "cell_type": "code",
      "execution_count": null,
      "metadata": {
        "id": "5ThqQTJZScSM"
      },
      "outputs": [],
      "source": [
        "lossi = estimate_loss()"
      ]
    }
  ],
  "metadata": {
    "accelerator": "TPU",
    "colab": {
      "gpuType": "V28",
      "provenance": []
    },
    "kernelspec": {
      "display_name": "Python 3",
      "name": "python3"
    },
    "language_info": {
      "name": "python"
    }
  },
  "nbformat": 4,
  "nbformat_minor": 0
}